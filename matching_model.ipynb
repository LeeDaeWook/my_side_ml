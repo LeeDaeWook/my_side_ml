{
 "cells": [
  {
   "cell_type": "code",
   "execution_count": 195,
   "id": "57e85d3c",
   "metadata": {
    "id": "57e85d3c"
   },
   "outputs": [],
   "source": [
    "import numpy as np\n",
    "import pandas as pd\n",
    "import sklearn\n",
    "from sklearn.preprocessing import OneHotEncoder\n",
    "from sklearn.cluster import KMeans\n",
    "import math\n",
    "from numpy import dot\n",
    "from numpy.linalg import norm\n",
    "from sklearn.preprocessing import MinMaxScaler"
   ]
  },
  {
   "cell_type": "code",
   "execution_count": 34,
   "id": "6f3a514b",
   "metadata": {},
   "outputs": [],
   "source": [
    "row_data = [\n",
    "  [\n",
    "    '113082415690584490861', '25',        '/m/0403l3g',\n",
    "    '/m/02ntfj',             '/m/025zzc', '/m/0bzvm2',\n",
    "    '/m/028sqc',             '/m/04rlf',  '/m/064t9',\n",
    "    '/m/01k8wb',             '/m/02vxn',  '/m/02jjt',\n",
    "    '/m/01k8wb',             '/m/019_rr', '/m/028sqc',\n",
    "    '/m/064t9',              '/m/04rlf',  '/m/01k8wb',\n",
    "    '/m/07c1v',              '/m/019_rr', '/m/019_rr',\n",
    "    '/g/120yrv6h',           '/m/019_rr', '/m/028sqc',\n",
    "    '/m/04rlf',              '/m/04rlf',  '/m/028sqc',\n",
    "    '/m/064t9',              '/m/04rlf',  '/m/064t9',\n",
    "    '/m/028sqc',             '/m/019_rr', '/m/01k8wb',\n",
    "    '/m/02vxn',              '/m/019_rr', '/m/02jjt',\n",
    "    '/m/02jjt',              '/m/028sqc', '/m/04rlf',\n",
    "    '/m/02vxn',              '/m/04rlf',  '/m/05rwpb',\n",
    "    '/m/064t9',              '/m/028sqc', '/m/064t9',\n",
    "    '/m/028sqc',             '/m/04rlf',  '/m/02jjt',\n",
    "    '/m/019_rr',             '/m/02wbm',  '/m/019_rr',\n",
    "    '/m/07c1v',              '/m/019_rr', '/m/01k8wb',\n",
    "    '/m/07c1v',              '/m/01k8wb', '/m/019_rr',\n",
    "    '/m/068hy',              '/m/019_rr', '/m/04rlf',\n",
    "    '/m/028sqc',             '/m/064t9',  '/m/028sqc',\n",
    "    '/m/064t9',              '/m/04rlf',  '/m/068hy',\n",
    "    '/m/019_rr'\n",
    "  ],\n",
    "  [\n",
    "    '115987064282754163674', '25',         '/m/02vxn',\n",
    "    '/m/02jjt',              '/m/02ntfj',  '/m/025zzc',\n",
    "    '/m/019_rr',             '/m/027x7n',  '/m/0403l3g',\n",
    "    '/m/0bzvm2',             '/m/03hf_rm', '/m/025zzc',\n",
    "    '/m/025zzc',             '/m/0bzvm2',  '/m/03hf_rm',\n",
    "    '/m/0403l3g',            '/m/03hf_rm', '/m/0403l3g',\n",
    "    '/m/025zzc',             '/m/02ntfj',  '/m/0bzvm2',\n",
    "    '/m/04rlf',              '/m/028sqc',  '/m/05rwpb',\n",
    "    '/m/06by7',              '/m/0glt670', '/m/02vxn',\n",
    "    '/m/04rlf',              '/m/02jjt',   '/m/01k8wb',\n",
    "    '/m/07c1v',              '/m/019_rr',  '/m/06ntj',\n",
    "    '/m/02jjt',              '/m/019_rr',  '/m/01k8wb',\n",
    "    '/m/07c1v',              '/m/0bzvm2',  '/m/0403l3g',\n",
    "    '/m/03hf_rm',            '/m/025zzc',  '/m/02vxn',\n",
    "    '/m/02jjt',              '/m/01k8wb',  '/m/098wr',\n",
    "    '/m/02vxn',              '/m/02jjt',   '/m/019_rr',\n",
    "    '/m/027x7n',             '/m/027x7n',  '/m/06ntj',\n",
    "    '/m/019_rr',             '/m/01k8wb',  '/m/0bzvm2',\n",
    "    '/m/0403l3g',            '/m/025zzc',  '/m/03hf_rm',\n",
    "    '/m/02ntfj',             '/m/02jjt',   '/m/0f2f9',\n",
    "    '/m/02vxn',              '/m/019_rr',  '/m/027x7n',\n",
    "    '/m/0403l3g',            '/m/03hf_rm', '/m/025zzc',\n",
    "    '/m/0bzvm2',             '/m/02jjt',   '/m/02vxn',\n",
    "    '/m/025zzc',             '/m/03hf_rm', '/m/0bzvm2',\n",
    "    '/m/0403l3g',            '/m/019_rr',  '/m/01k8wb',\n",
    "    '/m/025zzc',             '/m/03hf_rm', '/m/0403l3g',\n",
    "    '/m/0bzvm2',             '/m/02ntfj'\n",
    "  ]\n",
    "]"
   ]
  },
  {
   "cell_type": "code",
   "execution_count": 35,
   "id": "b5cc71f9",
   "metadata": {},
   "outputs": [],
   "source": [
    "#row_data"
   ]
  },
  {
   "cell_type": "code",
   "execution_count": 36,
   "id": "715d5055",
   "metadata": {},
   "outputs": [],
   "source": [
    "row_data = [[\"104666000123509160000\",\"14\",\"/m/027x7n\",\"/m/019_rr\",\"/m/02wbm\",\"/m/019_rr\",\"/m/027x7n\",\"/m/02wbm\",\"/m/027x7n\",\"/m/019_rr\",\"/m/019_rr\",\"/m/027x7n\",\"/m/06ntj\",\"/m/019_rr\",\"/m/02vx4\",\"/m/06ntj\",\"/m/019_rr\",\"/m/027x7n\",\"/m/06ntj\",\"/m/019_rr\",\"/m/027x7n\",\"/m/019_rr\",\"/m/027x7n\",\"/m/06ntj\",\"/m/0f2f9\",\"/m/02jjt\",\"/m/027x7n\",\"/m/019_rr\",\"/m/027x7n\",\"/m/019_rr\",\"/m/027x7n\",\"/m/019_rr\",\"/m/02vx4\",\"/m/06ntj\"],[\"111931018210891240000\",\"17\",\"/m/028sqc\",\"/m/064t9\",\"/m/02jjt\",\"/m/04rlf\",\"/m/032tl\",\"/m/019_rr\",\"/m/04rlf\",\"/m/064t9\",\"/m/028sqc\",\"/m/02jjt\",\"/m/04rlf\",\"/m/064t9\",\"/m/028sqc\",\"/m/019_rr\",\"/m/019_rr\",\"/m/019_rr\",\"/m/028sqc\",\"/m/064t9\",\"/m/04rlf\",\"/m/064t9\",\"/m/028sqc\",\"/m/04rlf\",\"/m/02jjt\",\"/m/019_rr\",\"/m/028sqc\",\"/m/04rlf\",\"/m/02jjt\",\"/m/064t9\",\"/m/032tl\",\"/m/019_rr\",\"/m/02wbm\",\"/m/019_rr\",\"/m/019_rr\",\"/m/032tl\",\"/m/06ntj\",\"/m/02jjt\",\"/m/019_rr\",\"/m/032tl\",\"/m/019_rr\",\"/m/032tl\",\"/m/019_rr\",\"/m/019_rr\",\"/m/02jjt\"],[\"113082415690584490000\",\"25\",\"/m/019_rr\",\"/m/02ntfj\",\"/m/025zzc\",\"/m/0403l3g\",\"/m/0bzvm2\",\"/m/019_rr\",\"/m/068hy\",\"/m/02wbm\",\"/m/019_rr\",\"/m/019_rr\",\"/m/01k8wb\",\"/m/07c1v\",\"/m/04rlf\",\"/m/064t9\",\"/m/028sqc\",\"/m/02jjt\",\"/m/01k8wb\",\"/m/019_rr\",\"/m/028sqc\",\"/m/04rlf\",\"/m/064t9\",\"/m/02vxn\",\"/m/02jjt\",\"/m/02jjt\",\"/m/02vxn\",\"/m/064t9\",\"/m/028sqc\",\"/m/04rlf\",\"/m/04rlf\",\"/m/028sqc\",\"/m/064t9\",\"/m/04rlf\",\"/m/028sqc\",\"/m/064t9\",\"/m/064t9\",\"/m/04rlf\",\"/m/028sqc\",\"/m/019_rr\",\"/m/04rlf\",\"/m/064t9\",\"/m/04rlf\",\"/m/028sqc\",\"/m/01k8wb\",\"/m/07c1v\",\"/m/019_rr\",\"/m/064t9\",\"/m/028sqc\",\"/m/04rlf\",\"/m/05rwpb\",\"/m/02jjt\",\"/m/04rlf\",\"/m/028sqc\",\"/m/019_rr\",\"/g/120yrv6h\",\"/m/028sqc\",\"/m/064t9\",\"/m/04rlf\",\"/m/01k8wb\",\"/m/019_rr\",\"/m/01k8wb\",\"/m/07c1v\",\"/m/019_rr\",\"/m/01k8wb\",\"/m/019_rr\",\"/m/07c1v\"],[\"115987064282754170000\",\"25\",\"/m/025zzc\",\"/m/0403l3g\",\"/m/03hf_rm\",\"/m/0bzvm2\",\"/m/02vxn\",\"/m/02jjt\",\"/m/04rlf\",\"/m/02jjt\",\"/m/02vxn\",\"/m/02ntfj\",\"/m/0bzvm2\",\"/m/03hf_rm\",\"/m/025zzc\",\"/m/0403l3g\",\"/m/02ntfj\",\"/m/0bzvm2\",\"/m/03hf_rm\",\"/m/025zzc\",\"/m/0403l3g\",\"/m/02jjt\",\"/m/02vxn\",\"/m/06ntj\",\"/m/02jjt\",\"/m/06by7\",\"/m/04rlf\",\"/m/028sqc\",\"/m/05rwpb\",\"/m/01k8wb\",\"/m/027x7n\",\"/m/019_rr\",\"/m/019_rr\",\"/m/02wbm\",\"/m/02ntfj\",\"/m/025zzc\",\"/m/0403l3g\",\"/m/03hf_rm\",\"/m/0bzvm2\",\"/m/019_rr\",\"/m/06ntj\",\"/m/027x7n\",\"/m/07c1v\",\"/m/01k8wb\",\"/m/019_rr\",\"/m/019_rr\",\"/m/027x7n\",\"/m/03hf_rm\",\"/m/025zzc\",\"/m/0bzvm2\",\"/m/0403l3g\",\"/m/0bzvm2\",\"/m/0403l3g\",\"/m/03hf_rm\",\"/m/02ntfj\",\"/m/025zzc\",\"/m/0403l3g\",\"/m/0bzvm2\",\"/m/03hf_rm\",\"/m/025zzc\",\"/m/02jjt\",\"/m/02vxn\",\"/m/01k8wb\",\"/m/07c1v\",\"/m/019_rr\",\"/m/01k8wb\",\"/m/07c1v\",\"/m/019_rr\",\"/m/02vxn\",\"/m/025zzc\",\"/m/02jjt\",\"/m/02ntfj\",\"/m/07c1v\",\"/m/019_rr\",\"/m/01k8wb\",\"/m/02jjt\",\"/m/019_rr\",\"/m/098wr\",\"/m/02wbm\",\"/m/025zzc\",\"/m/02ntfj\",\"/m/03hf_rm\",\"/m/0bzvm2\",\"/m/0403l3g\"],[\"116104082866269160000\",\"7\",\"/m/06ntj\",\"/m/01cgz\",\"/m/019_rr\",\"/m/07yv9\",\"/m/019_rr\",\"/m/04rlf\",\"/m/028sqc\",\"/m/05rwpb\",\"/m/01k8wb\",\"/m/098wr\",\"/m/028sqc\",\"/m/02jjt\",\"/m/04rlf\",\"/m/019_rr\",\"/m/02wbm\",\"/m/07c1v\",\"/m/019_rr\",\"/m/01k8wb\",\"/m/01k8wb\",\"/m/098wr\"]]"
   ]
  },
  {
   "cell_type": "code",
   "execution_count": 37,
   "id": "0637228a",
   "metadata": {},
   "outputs": [
    {
     "data": {
      "text/plain": [
       "[['104666000123509160000',\n",
       "  '14',\n",
       "  '/m/027x7n',\n",
       "  '/m/019_rr',\n",
       "  '/m/02wbm',\n",
       "  '/m/019_rr',\n",
       "  '/m/027x7n',\n",
       "  '/m/02wbm',\n",
       "  '/m/027x7n',\n",
       "  '/m/019_rr',\n",
       "  '/m/019_rr',\n",
       "  '/m/027x7n',\n",
       "  '/m/06ntj',\n",
       "  '/m/019_rr',\n",
       "  '/m/02vx4',\n",
       "  '/m/06ntj',\n",
       "  '/m/019_rr',\n",
       "  '/m/027x7n',\n",
       "  '/m/06ntj',\n",
       "  '/m/019_rr',\n",
       "  '/m/027x7n',\n",
       "  '/m/019_rr',\n",
       "  '/m/027x7n',\n",
       "  '/m/06ntj',\n",
       "  '/m/0f2f9',\n",
       "  '/m/02jjt',\n",
       "  '/m/027x7n',\n",
       "  '/m/019_rr',\n",
       "  '/m/027x7n',\n",
       "  '/m/019_rr',\n",
       "  '/m/027x7n',\n",
       "  '/m/019_rr',\n",
       "  '/m/02vx4',\n",
       "  '/m/06ntj'],\n",
       " ['111931018210891240000',\n",
       "  '17',\n",
       "  '/m/028sqc',\n",
       "  '/m/064t9',\n",
       "  '/m/02jjt',\n",
       "  '/m/04rlf',\n",
       "  '/m/032tl',\n",
       "  '/m/019_rr',\n",
       "  '/m/04rlf',\n",
       "  '/m/064t9',\n",
       "  '/m/028sqc',\n",
       "  '/m/02jjt',\n",
       "  '/m/04rlf',\n",
       "  '/m/064t9',\n",
       "  '/m/028sqc',\n",
       "  '/m/019_rr',\n",
       "  '/m/019_rr',\n",
       "  '/m/019_rr',\n",
       "  '/m/028sqc',\n",
       "  '/m/064t9',\n",
       "  '/m/04rlf',\n",
       "  '/m/064t9',\n",
       "  '/m/028sqc',\n",
       "  '/m/04rlf',\n",
       "  '/m/02jjt',\n",
       "  '/m/019_rr',\n",
       "  '/m/028sqc',\n",
       "  '/m/04rlf',\n",
       "  '/m/02jjt',\n",
       "  '/m/064t9',\n",
       "  '/m/032tl',\n",
       "  '/m/019_rr',\n",
       "  '/m/02wbm',\n",
       "  '/m/019_rr',\n",
       "  '/m/019_rr',\n",
       "  '/m/032tl',\n",
       "  '/m/06ntj',\n",
       "  '/m/02jjt',\n",
       "  '/m/019_rr',\n",
       "  '/m/032tl',\n",
       "  '/m/019_rr',\n",
       "  '/m/032tl',\n",
       "  '/m/019_rr',\n",
       "  '/m/019_rr',\n",
       "  '/m/02jjt'],\n",
       " ['113082415690584490000',\n",
       "  '25',\n",
       "  '/m/019_rr',\n",
       "  '/m/02ntfj',\n",
       "  '/m/025zzc',\n",
       "  '/m/0403l3g',\n",
       "  '/m/0bzvm2',\n",
       "  '/m/019_rr',\n",
       "  '/m/068hy',\n",
       "  '/m/02wbm',\n",
       "  '/m/019_rr',\n",
       "  '/m/019_rr',\n",
       "  '/m/01k8wb',\n",
       "  '/m/07c1v',\n",
       "  '/m/04rlf',\n",
       "  '/m/064t9',\n",
       "  '/m/028sqc',\n",
       "  '/m/02jjt',\n",
       "  '/m/01k8wb',\n",
       "  '/m/019_rr',\n",
       "  '/m/028sqc',\n",
       "  '/m/04rlf',\n",
       "  '/m/064t9',\n",
       "  '/m/02vxn',\n",
       "  '/m/02jjt',\n",
       "  '/m/02jjt',\n",
       "  '/m/02vxn',\n",
       "  '/m/064t9',\n",
       "  '/m/028sqc',\n",
       "  '/m/04rlf',\n",
       "  '/m/04rlf',\n",
       "  '/m/028sqc',\n",
       "  '/m/064t9',\n",
       "  '/m/04rlf',\n",
       "  '/m/028sqc',\n",
       "  '/m/064t9',\n",
       "  '/m/064t9',\n",
       "  '/m/04rlf',\n",
       "  '/m/028sqc',\n",
       "  '/m/019_rr',\n",
       "  '/m/04rlf',\n",
       "  '/m/064t9',\n",
       "  '/m/04rlf',\n",
       "  '/m/028sqc',\n",
       "  '/m/01k8wb',\n",
       "  '/m/07c1v',\n",
       "  '/m/019_rr',\n",
       "  '/m/064t9',\n",
       "  '/m/028sqc',\n",
       "  '/m/04rlf',\n",
       "  '/m/05rwpb',\n",
       "  '/m/02jjt',\n",
       "  '/m/04rlf',\n",
       "  '/m/028sqc',\n",
       "  '/m/019_rr',\n",
       "  '/g/120yrv6h',\n",
       "  '/m/028sqc',\n",
       "  '/m/064t9',\n",
       "  '/m/04rlf',\n",
       "  '/m/01k8wb',\n",
       "  '/m/019_rr',\n",
       "  '/m/01k8wb',\n",
       "  '/m/07c1v',\n",
       "  '/m/019_rr',\n",
       "  '/m/01k8wb',\n",
       "  '/m/019_rr',\n",
       "  '/m/07c1v'],\n",
       " ['115987064282754170000',\n",
       "  '25',\n",
       "  '/m/025zzc',\n",
       "  '/m/0403l3g',\n",
       "  '/m/03hf_rm',\n",
       "  '/m/0bzvm2',\n",
       "  '/m/02vxn',\n",
       "  '/m/02jjt',\n",
       "  '/m/04rlf',\n",
       "  '/m/02jjt',\n",
       "  '/m/02vxn',\n",
       "  '/m/02ntfj',\n",
       "  '/m/0bzvm2',\n",
       "  '/m/03hf_rm',\n",
       "  '/m/025zzc',\n",
       "  '/m/0403l3g',\n",
       "  '/m/02ntfj',\n",
       "  '/m/0bzvm2',\n",
       "  '/m/03hf_rm',\n",
       "  '/m/025zzc',\n",
       "  '/m/0403l3g',\n",
       "  '/m/02jjt',\n",
       "  '/m/02vxn',\n",
       "  '/m/06ntj',\n",
       "  '/m/02jjt',\n",
       "  '/m/06by7',\n",
       "  '/m/04rlf',\n",
       "  '/m/028sqc',\n",
       "  '/m/05rwpb',\n",
       "  '/m/01k8wb',\n",
       "  '/m/027x7n',\n",
       "  '/m/019_rr',\n",
       "  '/m/019_rr',\n",
       "  '/m/02wbm',\n",
       "  '/m/02ntfj',\n",
       "  '/m/025zzc',\n",
       "  '/m/0403l3g',\n",
       "  '/m/03hf_rm',\n",
       "  '/m/0bzvm2',\n",
       "  '/m/019_rr',\n",
       "  '/m/06ntj',\n",
       "  '/m/027x7n',\n",
       "  '/m/07c1v',\n",
       "  '/m/01k8wb',\n",
       "  '/m/019_rr',\n",
       "  '/m/019_rr',\n",
       "  '/m/027x7n',\n",
       "  '/m/03hf_rm',\n",
       "  '/m/025zzc',\n",
       "  '/m/0bzvm2',\n",
       "  '/m/0403l3g',\n",
       "  '/m/0bzvm2',\n",
       "  '/m/0403l3g',\n",
       "  '/m/03hf_rm',\n",
       "  '/m/02ntfj',\n",
       "  '/m/025zzc',\n",
       "  '/m/0403l3g',\n",
       "  '/m/0bzvm2',\n",
       "  '/m/03hf_rm',\n",
       "  '/m/025zzc',\n",
       "  '/m/02jjt',\n",
       "  '/m/02vxn',\n",
       "  '/m/01k8wb',\n",
       "  '/m/07c1v',\n",
       "  '/m/019_rr',\n",
       "  '/m/01k8wb',\n",
       "  '/m/07c1v',\n",
       "  '/m/019_rr',\n",
       "  '/m/02vxn',\n",
       "  '/m/025zzc',\n",
       "  '/m/02jjt',\n",
       "  '/m/02ntfj',\n",
       "  '/m/07c1v',\n",
       "  '/m/019_rr',\n",
       "  '/m/01k8wb',\n",
       "  '/m/02jjt',\n",
       "  '/m/019_rr',\n",
       "  '/m/098wr',\n",
       "  '/m/02wbm',\n",
       "  '/m/025zzc',\n",
       "  '/m/02ntfj',\n",
       "  '/m/03hf_rm',\n",
       "  '/m/0bzvm2',\n",
       "  '/m/0403l3g'],\n",
       " ['116104082866269160000',\n",
       "  '7',\n",
       "  '/m/06ntj',\n",
       "  '/m/01cgz',\n",
       "  '/m/019_rr',\n",
       "  '/m/07yv9',\n",
       "  '/m/019_rr',\n",
       "  '/m/04rlf',\n",
       "  '/m/028sqc',\n",
       "  '/m/05rwpb',\n",
       "  '/m/01k8wb',\n",
       "  '/m/098wr',\n",
       "  '/m/028sqc',\n",
       "  '/m/02jjt',\n",
       "  '/m/04rlf',\n",
       "  '/m/019_rr',\n",
       "  '/m/02wbm',\n",
       "  '/m/07c1v',\n",
       "  '/m/019_rr',\n",
       "  '/m/01k8wb',\n",
       "  '/m/01k8wb',\n",
       "  '/m/098wr']]"
      ]
     },
     "execution_count": 37,
     "metadata": {},
     "output_type": "execute_result"
    }
   ],
   "source": [
    "row_data"
   ]
  },
  {
   "cell_type": "code",
   "execution_count": 233,
   "id": "a2a2b0c9",
   "metadata": {},
   "outputs": [],
   "source": [
    "# 데이터 전처리\n",
    "\n",
    "class DataPreprocessing(object):\n",
    "   \n",
    "    def ListToArray(self, row_data): \n",
    "        self.arr = np.array(row_data)\n",
    "                                    \n",
    "    def MakeColumns(self):\n",
    "        self.user_id = []\n",
    "        for i in range(self.arr.shape[0]):\n",
    "            self.user_id.append(self.arr[i][0])\n",
    "            \n",
    "        self.channels = []\n",
    "        for i in range(self.arr.shape[0]):\n",
    "            self.channels.append(self.arr[i][1])\n",
    "            \n",
    "        self.cate = []\n",
    "        for i in range(self.arr.shape[0]):\n",
    "            self.cate.append(self.arr[i][2:])\n",
    "    \n",
    "    def MimMaxScaling(self):\n",
    "        scaler = MinMaxScaler()\n",
    "        self.channels = scaler.fit_transform(np.array(self.channels).reshape(-1,1))\n",
    "        self.channels = scaled_cha.reshape(-1)\n",
    "        \n",
    "    def ArrayToDataframe(self):\n",
    "        self.row_df = pd.DataFrame({'Channels': self.channels, 'Category': self.cate}, index=self.user_id)\n",
    "    \n",
    "    def Extraction(self):\n",
    "        self.category = []\n",
    "        \n",
    "        for i in range(self.row_df['Category'].shape[0]):\n",
    "            np.array(pd.DataFrame(self.row_df['Category'][i]).value_counts()).reshape(1,-1)\n",
    "            \n",
    "            self.category_series = pd.DataFrame(self.row_df['Category'][i]).value_counts()\n",
    "            \n",
    "            self.df_category = pd.DataFrame(np.array(self.category_series).reshape(1, -1), \n",
    "                               columns = [j for j in self.category_series.index])\n",
    "\n",
    "            self.category.append(self.df_category.sort_values(by=0, axis=1).iloc[0, -2:].index.tolist())\n",
    "            \n",
    "        self.first_category = pd.DataFrame(self.category)[0].str[0]\n",
    "        self.second_category = pd.DataFrame(self.category)[1].str[0]\n",
    "    \n",
    "    def ToDf(self):\n",
    "        df = pd.DataFrame({'channels': self.channels, 'first_category': self.first_category.values, \n",
    "                           'second_category': self.second_category.values}, index=self.user_id)\n",
    "        \n",
    "        return df"
   ]
  },
  {
   "cell_type": "code",
   "execution_count": 234,
   "id": "a84a55fa",
   "metadata": {},
   "outputs": [],
   "source": [
    "dt = DataPreprocessing()"
   ]
  },
  {
   "cell_type": "code",
   "execution_count": 235,
   "id": "e4a7f053",
   "metadata": {},
   "outputs": [
    {
     "name": "stderr",
     "output_type": "stream",
     "text": [
      "/var/folders/0t/m5tmk07x1jn8mbwk5mpr748h0000gp/T/ipykernel_8917/827151334.py:6: VisibleDeprecationWarning: Creating an ndarray from ragged nested sequences (which is a list-or-tuple of lists-or-tuples-or ndarrays with different lengths or shapes) is deprecated. If you meant to do this, you must specify 'dtype=object' when creating the ndarray.\n",
      "  self.arr = np.array(row_data)\n"
     ]
    }
   ],
   "source": [
    "dt.ListToArray(row_data)"
   ]
  },
  {
   "cell_type": "code",
   "execution_count": 236,
   "id": "b856bc26",
   "metadata": {},
   "outputs": [
    {
     "name": "stdout",
     "output_type": "stream",
     "text": [
      "['104666000123509160000', '111931018210891240000', '113082415690584490000', '115987064282754170000', '116104082866269160000'] ['14', '17', '25', '25', '7']\n"
     ]
    }
   ],
   "source": [
    "dt.MakeColumns()\n",
    "print(dt.user_id, dt.channels)"
   ]
  },
  {
   "cell_type": "code",
   "execution_count": 237,
   "id": "2d4d714a",
   "metadata": {},
   "outputs": [],
   "source": [
    "dt.MimMaxScaling()"
   ]
  },
  {
   "cell_type": "code",
   "execution_count": 238,
   "id": "d284f87a",
   "metadata": {},
   "outputs": [],
   "source": [
    "dt.ArrayToDataframe()"
   ]
  },
  {
   "cell_type": "code",
   "execution_count": 239,
   "id": "d48cc860",
   "metadata": {},
   "outputs": [
    {
     "data": {
      "text/plain": [
       "[[('/m/027x7n',), ('/m/019_rr',)],\n",
       " [('/m/064t9',), ('/m/019_rr',)],\n",
       " [('/m/019_rr',), ('/m/04rlf',)],\n",
       " [('/m/025zzc',), ('/m/019_rr',)],\n",
       " [('/m/01k8wb',), ('/m/019_rr',)]]"
      ]
     },
     "execution_count": 239,
     "metadata": {},
     "output_type": "execute_result"
    }
   ],
   "source": [
    "dt.Extraction()\n",
    "dt.category"
   ]
  },
  {
   "cell_type": "code",
   "execution_count": 240,
   "id": "8e3b4448",
   "metadata": {
    "scrolled": false
   },
   "outputs": [
    {
     "data": {
      "text/html": [
       "<div>\n",
       "<style scoped>\n",
       "    .dataframe tbody tr th:only-of-type {\n",
       "        vertical-align: middle;\n",
       "    }\n",
       "\n",
       "    .dataframe tbody tr th {\n",
       "        vertical-align: top;\n",
       "    }\n",
       "\n",
       "    .dataframe thead th {\n",
       "        text-align: right;\n",
       "    }\n",
       "</style>\n",
       "<table border=\"1\" class=\"dataframe\">\n",
       "  <thead>\n",
       "    <tr style=\"text-align: right;\">\n",
       "      <th></th>\n",
       "      <th>channels</th>\n",
       "      <th>first_category</th>\n",
       "      <th>second_category</th>\n",
       "    </tr>\n",
       "  </thead>\n",
       "  <tbody>\n",
       "    <tr>\n",
       "      <th>104666000123509160000</th>\n",
       "      <td>0.388889</td>\n",
       "      <td>/m/027x7n</td>\n",
       "      <td>/m/019_rr</td>\n",
       "    </tr>\n",
       "    <tr>\n",
       "      <th>111931018210891240000</th>\n",
       "      <td>0.555556</td>\n",
       "      <td>/m/064t9</td>\n",
       "      <td>/m/019_rr</td>\n",
       "    </tr>\n",
       "    <tr>\n",
       "      <th>113082415690584490000</th>\n",
       "      <td>1.000000</td>\n",
       "      <td>/m/019_rr</td>\n",
       "      <td>/m/04rlf</td>\n",
       "    </tr>\n",
       "    <tr>\n",
       "      <th>115987064282754170000</th>\n",
       "      <td>1.000000</td>\n",
       "      <td>/m/025zzc</td>\n",
       "      <td>/m/019_rr</td>\n",
       "    </tr>\n",
       "    <tr>\n",
       "      <th>116104082866269160000</th>\n",
       "      <td>0.000000</td>\n",
       "      <td>/m/01k8wb</td>\n",
       "      <td>/m/019_rr</td>\n",
       "    </tr>\n",
       "  </tbody>\n",
       "</table>\n",
       "</div>"
      ],
      "text/plain": [
       "                       channels first_category second_category\n",
       "104666000123509160000  0.388889      /m/027x7n       /m/019_rr\n",
       "111931018210891240000  0.555556       /m/064t9       /m/019_rr\n",
       "113082415690584490000  1.000000      /m/019_rr        /m/04rlf\n",
       "115987064282754170000  1.000000      /m/025zzc       /m/019_rr\n",
       "116104082866269160000  0.000000      /m/01k8wb       /m/019_rr"
      ]
     },
     "execution_count": 240,
     "metadata": {},
     "output_type": "execute_result"
    }
   ],
   "source": [
    "# 가장 많이 구독한 채널의 카테고리와 두번째로 많이 구독한 채널의 카테고리를 각각 feature로 할당\n",
    "\n",
    "df = dt.ToDf()\n",
    "df"
   ]
  },
  {
   "cell_type": "code",
   "execution_count": 241,
   "id": "604f7430",
   "metadata": {},
   "outputs": [],
   "source": [
    "# sklearn의 cosine_similarity 사용\n",
    "# 코사인 유사도 계산 시 시간복잡도 문제 해결\n",
    "\n",
    "from sklearn.metrics.pairwise import cosine_similarity\n",
    "\n",
    "class Classification(object):\n",
    "    \n",
    "    def __init__(self, df_data):\n",
    "        self.df = df_data\n",
    "        self.n_samples = self.df.shape[0]\n",
    "    \n",
    "    def Ohe(self, df): # 각 샘플에 대해 추출한 가장 선호하는 2개의 특성에 대해 원핫인코딩\n",
    "        ohe = OneHotEncoder(sparse=False)\n",
    "        self.train_feature = ohe.fit_transform(np.array(df[['first_category', 'second_category']]).reshape(-1,1))\n",
    "    \n",
    "    def makeData(self, channels):\n",
    "        channels = np.array(channels).reshape(self.n_samples, -1)\n",
    "        self.X_train = np.hstack((channels, np.array(self.train_feature).reshape(self.n_samples, -1)))\n",
    "        \n",
    "    def Kmeans(self): # k_means 클러스터링\n",
    "        model = KMeans(n_clusters=2)\n",
    "        model.fit(self.X_train)\n",
    "        return np.array(model.predict(self.X_train))\n",
    "    \n",
    "    def ReturnResult_cosine_similarity(self, k=1):\n",
    "        \n",
    "        #k_users = np.empty((0,k))\n",
    "        k_users_dict = {}\n",
    "        for i in range(0, self.X_train.shape[0]):\n",
    "            distance = [cosine_similarity(self.X_train[i].reshape(1,-1), self.X_train)]\n",
    "            \n",
    "            # i 번째 데이터 포인터와 다른 데이터들 사이의 거리를 작은순으로 정렬한 후 해당 인덱스를 이용해서 가장 가까운 k명의 이용자 선별\n",
    "            self.distance_idx = np.array(distance).ravel().argsort()\n",
    "            #k_users = np.append(k_users, [self.distance_idx[:k]], axis=0)\n",
    "            \n",
    "            distance_value = []\n",
    "            for j in range(0, k):\n",
    "                distance_value.append(self.distance_idx[j])\n",
    "            k_users_dict[self.df.index[i]] = distance_value\n",
    "        \n",
    "        return k_users_dict"
   ]
  },
  {
   "cell_type": "code",
   "execution_count": 242,
   "id": "07da5b7a",
   "metadata": {
    "id": "07da5b7a"
   },
   "outputs": [],
   "source": [
    "cl = Classification(df)"
   ]
  },
  {
   "cell_type": "code",
   "execution_count": 243,
   "id": "12d06507",
   "metadata": {},
   "outputs": [
    {
     "data": {
      "text/plain": [
       "array([[0., 0., 0., 1., 0., 0.],\n",
       "       [1., 0., 0., 0., 0., 0.],\n",
       "       [0., 0., 0., 0., 0., 1.],\n",
       "       [1., 0., 0., 0., 0., 0.],\n",
       "       [1., 0., 0., 0., 0., 0.],\n",
       "       [0., 0., 0., 0., 1., 0.],\n",
       "       [0., 0., 1., 0., 0., 0.],\n",
       "       [1., 0., 0., 0., 0., 0.],\n",
       "       [0., 1., 0., 0., 0., 0.],\n",
       "       [1., 0., 0., 0., 0., 0.]])"
      ]
     },
     "execution_count": 243,
     "metadata": {},
     "output_type": "execute_result"
    }
   ],
   "source": [
    "cl.Ohe(df)\n",
    "cl.train_feature"
   ]
  },
  {
   "cell_type": "code",
   "execution_count": 244,
   "id": "5f5935bb",
   "metadata": {
    "id": "5f5935bb"
   },
   "outputs": [],
   "source": [
    "#cl.makeData(np.array(dt.channels).reshape(5, -1))\n",
    "cl.makeData(dt.channels)"
   ]
  },
  {
   "cell_type": "code",
   "execution_count": 245,
   "id": "a8df1620",
   "metadata": {},
   "outputs": [
    {
     "data": {
      "text/plain": [
       "array([[0.38888889, 0.        , 0.        , 0.        , 1.        ,\n",
       "        0.        , 0.        , 1.        , 0.        , 0.        ,\n",
       "        0.        , 0.        , 0.        ],\n",
       "       [0.55555556, 0.        , 0.        , 0.        , 0.        ,\n",
       "        0.        , 1.        , 1.        , 0.        , 0.        ,\n",
       "        0.        , 0.        , 0.        ],\n",
       "       [1.        , 1.        , 0.        , 0.        , 0.        ,\n",
       "        0.        , 0.        , 0.        , 0.        , 0.        ,\n",
       "        0.        , 1.        , 0.        ],\n",
       "       [1.        , 0.        , 0.        , 1.        , 0.        ,\n",
       "        0.        , 0.        , 1.        , 0.        , 0.        ,\n",
       "        0.        , 0.        , 0.        ],\n",
       "       [0.        , 0.        , 1.        , 0.        , 0.        ,\n",
       "        0.        , 0.        , 1.        , 0.        , 0.        ,\n",
       "        0.        , 0.        , 0.        ]])"
      ]
     },
     "execution_count": 245,
     "metadata": {},
     "output_type": "execute_result"
    }
   ],
   "source": [
    "cl.X_train"
   ]
  },
  {
   "cell_type": "code",
   "execution_count": 246,
   "id": "85c2c5ca",
   "metadata": {
    "colab": {
     "base_uri": "https://localhost:8080/"
    },
    "id": "85c2c5ca",
    "outputId": "0a859e06-01bc-4cf6-9418-2a2080a01609"
   },
   "outputs": [
    {
     "data": {
      "text/plain": [
       "array([0, 0, 1, 0, 0], dtype=int32)"
      ]
     },
     "execution_count": 246,
     "metadata": {},
     "output_type": "execute_result"
    }
   ],
   "source": [
    "result = cl.Kmeans()\n",
    "result"
   ]
  },
  {
   "cell_type": "code",
   "execution_count": 249,
   "id": "bd80ab45",
   "metadata": {
    "id": "bd80ab45"
   },
   "outputs": [],
   "source": [
    "k_users = cl.ReturnResult_cosine_similarity(1)"
   ]
  },
  {
   "cell_type": "code",
   "execution_count": 250,
   "id": "a558ea2b",
   "metadata": {},
   "outputs": [
    {
     "data": {
      "text/plain": [
       "{'104666000123509160000': [2],\n",
       " '111931018210891240000': [2],\n",
       " '113082415690584490000': [4],\n",
       " '115987064282754170000': [2],\n",
       " '116104082866269160000': [2]}"
      ]
     },
     "execution_count": 250,
     "metadata": {},
     "output_type": "execute_result"
    }
   ],
   "source": [
    "k_users"
   ]
  },
  {
   "cell_type": "code",
   "execution_count": null,
   "id": "f7e331a1",
   "metadata": {},
   "outputs": [],
   "source": []
  }
 ],
 "metadata": {
  "colab": {
   "collapsed_sections": [],
   "provenance": []
  },
  "kernelspec": {
   "display_name": "Python 3 (ipykernel)",
   "language": "python",
   "name": "python3"
  },
  "language_info": {
   "codemirror_mode": {
    "name": "ipython",
    "version": 3
   },
   "file_extension": ".py",
   "mimetype": "text/x-python",
   "name": "python",
   "nbconvert_exporter": "python",
   "pygments_lexer": "ipython3",
   "version": "3.9.12"
  }
 },
 "nbformat": 4,
 "nbformat_minor": 5
}
