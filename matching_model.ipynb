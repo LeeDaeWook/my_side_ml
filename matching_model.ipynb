{
 "cells": [
  {
   "cell_type": "code",
   "execution_count": 1,
   "id": "57e85d3c",
   "metadata": {
    "id": "57e85d3c"
   },
   "outputs": [],
   "source": [
    "import numpy as np\n",
    "import pandas as pd\n",
    "import sklearn\n",
    "from sklearn.preprocessing import OneHotEncoder\n",
    "from sklearn.cluster import KMeans\n",
    "import math\n",
    "from numpy import dot\n",
    "from numpy.linalg import norm"
   ]
  },
  {
   "cell_type": "code",
   "execution_count": 3,
   "id": "6f3a514b",
   "metadata": {},
   "outputs": [],
   "source": [
    "row_data = [\n",
    "  [\n",
    "    '113082415690584490861', '25',        '/m/0403l3g',\n",
    "    '/m/02ntfj',             '/m/025zzc', '/m/0bzvm2',\n",
    "    '/m/028sqc',             '/m/04rlf',  '/m/064t9',\n",
    "    '/m/01k8wb',             '/m/02vxn',  '/m/02jjt',\n",
    "    '/m/01k8wb',             '/m/019_rr', '/m/028sqc',\n",
    "    '/m/064t9',              '/m/04rlf',  '/m/01k8wb',\n",
    "    '/m/07c1v',              '/m/019_rr', '/m/019_rr',\n",
    "    '/g/120yrv6h',           '/m/019_rr', '/m/028sqc',\n",
    "    '/m/04rlf',              '/m/04rlf',  '/m/028sqc',\n",
    "    '/m/064t9',              '/m/04rlf',  '/m/064t9',\n",
    "    '/m/028sqc',             '/m/019_rr', '/m/01k8wb',\n",
    "    '/m/02vxn',              '/m/019_rr', '/m/02jjt',\n",
    "    '/m/02jjt',              '/m/028sqc', '/m/04rlf',\n",
    "    '/m/02vxn',              '/m/04rlf',  '/m/05rwpb',\n",
    "    '/m/064t9',              '/m/028sqc', '/m/064t9',\n",
    "    '/m/028sqc',             '/m/04rlf',  '/m/02jjt',\n",
    "    '/m/019_rr',             '/m/02wbm',  '/m/019_rr',\n",
    "    '/m/07c1v',              '/m/019_rr', '/m/01k8wb',\n",
    "    '/m/07c1v',              '/m/01k8wb', '/m/019_rr',\n",
    "    '/m/068hy',              '/m/019_rr', '/m/04rlf',\n",
    "    '/m/028sqc',             '/m/064t9',  '/m/028sqc',\n",
    "    '/m/064t9',              '/m/04rlf',  '/m/068hy',\n",
    "    '/m/019_rr'\n",
    "  ],\n",
    "  [\n",
    "    '115987064282754163674', '25',         '/m/02vxn',\n",
    "    '/m/02jjt',              '/m/02ntfj',  '/m/025zzc',\n",
    "    '/m/019_rr',             '/m/027x7n',  '/m/0403l3g',\n",
    "    '/m/0bzvm2',             '/m/03hf_rm', '/m/025zzc',\n",
    "    '/m/025zzc',             '/m/0bzvm2',  '/m/03hf_rm',\n",
    "    '/m/0403l3g',            '/m/03hf_rm', '/m/0403l3g',\n",
    "    '/m/025zzc',             '/m/02ntfj',  '/m/0bzvm2',\n",
    "    '/m/04rlf',              '/m/028sqc',  '/m/05rwpb',\n",
    "    '/m/06by7',              '/m/0glt670', '/m/02vxn',\n",
    "    '/m/04rlf',              '/m/02jjt',   '/m/01k8wb',\n",
    "    '/m/07c1v',              '/m/019_rr',  '/m/06ntj',\n",
    "    '/m/02jjt',              '/m/019_rr',  '/m/01k8wb',\n",
    "    '/m/07c1v',              '/m/0bzvm2',  '/m/0403l3g',\n",
    "    '/m/03hf_rm',            '/m/025zzc',  '/m/02vxn',\n",
    "    '/m/02jjt',              '/m/01k8wb',  '/m/098wr',\n",
    "    '/m/02vxn',              '/m/02jjt',   '/m/019_rr',\n",
    "    '/m/027x7n',             '/m/027x7n',  '/m/06ntj',\n",
    "    '/m/019_rr',             '/m/01k8wb',  '/m/0bzvm2',\n",
    "    '/m/0403l3g',            '/m/025zzc',  '/m/03hf_rm',\n",
    "    '/m/02ntfj',             '/m/02jjt',   '/m/0f2f9',\n",
    "    '/m/02vxn',              '/m/019_rr',  '/m/027x7n',\n",
    "    '/m/0403l3g',            '/m/03hf_rm', '/m/025zzc',\n",
    "    '/m/0bzvm2',             '/m/02jjt',   '/m/02vxn',\n",
    "    '/m/025zzc',             '/m/03hf_rm', '/m/0bzvm2',\n",
    "    '/m/0403l3g',            '/m/019_rr',  '/m/01k8wb',\n",
    "    '/m/025zzc',             '/m/03hf_rm', '/m/0403l3g',\n",
    "    '/m/0bzvm2',             '/m/02ntfj'\n",
    "  ]\n",
    "]"
   ]
  },
  {
   "cell_type": "code",
   "execution_count": 4,
   "id": "a2a2b0c9",
   "metadata": {},
   "outputs": [],
   "source": [
    "# 데이터 전처리\n",
    "\n",
    "class DataPreprocessing(object):\n",
    "   \n",
    "    def ListToArray(self, row_data): \n",
    "        self.arr = np.array(row_data)\n",
    "                                    \n",
    "    def MakeColumns(self):\n",
    "        self.user_id = []\n",
    "        for i in range(self.arr.shape[0]):\n",
    "            self.user_id.append(self.arr[i][0])\n",
    "            \n",
    "        self.channels = []\n",
    "        for i in range(self.arr.shape[0]):\n",
    "            self.channels.append(self.arr[i][1])\n",
    "            \n",
    "        self.cate = []\n",
    "        for i in range(self.arr.shape[0]):\n",
    "            self.cate.append(self.arr[i][2:])\n",
    "    \n",
    "    def ArrayToDataframe(self):\n",
    "        self.row_df = pd.DataFrame({'Channels': self.channels, 'Category': self.cate}, index=self.user_id)\n",
    "    \n",
    "    def Extraction(self):\n",
    "        self.category = []\n",
    "        \n",
    "        for i in range(self.row_df['Category'].shape[0]):\n",
    "            np.array(pd.DataFrame(self.row_df['Category'][i]).value_counts()).reshape(1,-1)\n",
    "            \n",
    "            self.category_series = pd.DataFrame(self.row_df['Category'][i]).value_counts()\n",
    "            \n",
    "            self.df_category = pd.DataFrame(np.array(self.category_series).reshape(1, -1), \n",
    "                               columns = [j for j in self.category_series.index])\n",
    "\n",
    "            self.category.append(self.df_category.sort_values(by=0, axis=1).iloc[0, -2:].index.tolist())\n",
    "            \n",
    "        self.first_category = pd.DataFrame(self.category)[0].str[0]\n",
    "        self.second_category = pd.DataFrame(self.category)[1].str[0]\n",
    "    \n",
    "    def ToDf(self):\n",
    "        df = pd.DataFrame({'channels': self.channels, 'first_category': self.first_category.values, \n",
    "                           'second_category': self.second_category.values}, index=self.user_id)\n",
    "        \n",
    "        return df"
   ]
  },
  {
   "cell_type": "code",
   "execution_count": 5,
   "id": "a84a55fa",
   "metadata": {},
   "outputs": [],
   "source": [
    "dt = DataPreprocessing()"
   ]
  },
  {
   "cell_type": "code",
   "execution_count": 6,
   "id": "e4a7f053",
   "metadata": {},
   "outputs": [
    {
     "name": "stderr",
     "output_type": "stream",
     "text": [
      "/var/folders/0t/m5tmk07x1jn8mbwk5mpr748h0000gp/T/ipykernel_32550/950848848.py:6: VisibleDeprecationWarning: Creating an ndarray from ragged nested sequences (which is a list-or-tuple of lists-or-tuples-or ndarrays with different lengths or shapes) is deprecated. If you meant to do this, you must specify 'dtype=object' when creating the ndarray.\n",
      "  self.arr = np.array(row_data)\n"
     ]
    }
   ],
   "source": [
    "dt.ListToArray(row_data)"
   ]
  },
  {
   "cell_type": "code",
   "execution_count": 7,
   "id": "b856bc26",
   "metadata": {},
   "outputs": [
    {
     "name": "stdout",
     "output_type": "stream",
     "text": [
      "['113082415690584490861', '115987064282754163674'] ['25', '25']\n"
     ]
    }
   ],
   "source": [
    "dt.MakeColumns()\n",
    "print(dt.user_id, dt.channels)"
   ]
  },
  {
   "cell_type": "code",
   "execution_count": 8,
   "id": "d284f87a",
   "metadata": {},
   "outputs": [],
   "source": [
    "dt.ArrayToDataframe()"
   ]
  },
  {
   "cell_type": "code",
   "execution_count": 9,
   "id": "d48cc860",
   "metadata": {},
   "outputs": [
    {
     "data": {
      "text/plain": [
       "[[('/m/04rlf',), ('/m/019_rr',)], [('/m/0403l3g',), ('/m/025zzc',)]]"
      ]
     },
     "execution_count": 9,
     "metadata": {},
     "output_type": "execute_result"
    }
   ],
   "source": [
    "dt.Extraction()\n",
    "dt.category"
   ]
  },
  {
   "cell_type": "code",
   "execution_count": 10,
   "id": "8e3b4448",
   "metadata": {},
   "outputs": [
    {
     "data": {
      "text/html": [
       "<div>\n",
       "<style scoped>\n",
       "    .dataframe tbody tr th:only-of-type {\n",
       "        vertical-align: middle;\n",
       "    }\n",
       "\n",
       "    .dataframe tbody tr th {\n",
       "        vertical-align: top;\n",
       "    }\n",
       "\n",
       "    .dataframe thead th {\n",
       "        text-align: right;\n",
       "    }\n",
       "</style>\n",
       "<table border=\"1\" class=\"dataframe\">\n",
       "  <thead>\n",
       "    <tr style=\"text-align: right;\">\n",
       "      <th></th>\n",
       "      <th>channels</th>\n",
       "      <th>first_category</th>\n",
       "      <th>second_category</th>\n",
       "    </tr>\n",
       "  </thead>\n",
       "  <tbody>\n",
       "    <tr>\n",
       "      <th>113082415690584490861</th>\n",
       "      <td>25</td>\n",
       "      <td>/m/04rlf</td>\n",
       "      <td>/m/019_rr</td>\n",
       "    </tr>\n",
       "    <tr>\n",
       "      <th>115987064282754163674</th>\n",
       "      <td>25</td>\n",
       "      <td>/m/0403l3g</td>\n",
       "      <td>/m/025zzc</td>\n",
       "    </tr>\n",
       "  </tbody>\n",
       "</table>\n",
       "</div>"
      ],
      "text/plain": [
       "                      channels first_category second_category\n",
       "113082415690584490861       25       /m/04rlf       /m/019_rr\n",
       "115987064282754163674       25     /m/0403l3g       /m/025zzc"
      ]
     },
     "execution_count": 10,
     "metadata": {},
     "output_type": "execute_result"
    }
   ],
   "source": [
    "df = dt.ToDf()\n",
    "df"
   ]
  },
  {
   "cell_type": "code",
   "execution_count": 18,
   "id": "604f7430",
   "metadata": {},
   "outputs": [],
   "source": [
    "# sklearn의 cosine_similarity 사용\n",
    "# 코사인 유사도 계산 시 시간복잡도 문제 해결\n",
    "\n",
    "from sklearn.metrics.pairwise import cosine_similarity\n",
    "\n",
    "class Classification(object):\n",
    "    \n",
    "    def __init__(self, df_data):\n",
    "        self.df = df_data\n",
    "    \n",
    "    def Ohe(self, df): # 각 샘플에 대해 추출한 가장 선호하는 2개의 특성에 대해 원핫인코딩\n",
    "        ohe = OneHotEncoder(sparse=False)\n",
    "        self.train_feature = ohe.fit_transform(np.array(df[['first_category', 'second_category']]).reshape(-1,1))\n",
    "    \n",
    "    def makeData(self, channels):\n",
    "        self.X_train = np.hstack((channels, np.array(cl.train_feature).reshape(2,-1)))\n",
    "        \n",
    "    def Kmeans(self): # k_means 클러스터링\n",
    "        model = KMeans(n_clusters=2)\n",
    "        model.fit(self.X_train)\n",
    "        return np.array(model.predict(self.X_train))\n",
    "    \n",
    "    def ReturnResult_cosine_similarity(self, k=1):\n",
    "        \n",
    "        k_users = np.empty((0,k))\n",
    "        for i in range(0, self.X_train.shape[0]):\n",
    "            distance = [cosine_similarity(self.X_train[i].reshape(1,-1), self.X_train)]\n",
    "            \n",
    "            # i 번째 데이터 포인터와 다른 데이터들 사이의 거리를 작은순으로 정렬한 후 해당 인덱스를 이용해서 가장 가까운 k명의 이용자 선별\n",
    "            distance_idx = np.array(distance).ravel().argsort()\n",
    "            k_users = np.append(k_users, [distance_idx[:k]], axis=0)\n",
    "                    \n",
    "        return k_users"
   ]
  },
  {
   "cell_type": "code",
   "execution_count": 19,
   "id": "07da5b7a",
   "metadata": {
    "id": "07da5b7a"
   },
   "outputs": [],
   "source": [
    "cl = Classification(df)"
   ]
  },
  {
   "cell_type": "code",
   "execution_count": 20,
   "id": "12d06507",
   "metadata": {},
   "outputs": [
    {
     "data": {
      "text/plain": [
       "array([[0., 0., 0., 1.],\n",
       "       [1., 0., 0., 0.],\n",
       "       [0., 0., 1., 0.],\n",
       "       [0., 1., 0., 0.]])"
      ]
     },
     "execution_count": 20,
     "metadata": {},
     "output_type": "execute_result"
    }
   ],
   "source": [
    "cl.Ohe(df)\n",
    "cl.train_feature"
   ]
  },
  {
   "cell_type": "code",
   "execution_count": 21,
   "id": "5f5935bb",
   "metadata": {
    "id": "5f5935bb"
   },
   "outputs": [],
   "source": [
    "cl.makeData(np.array(dt.channels).reshape(2, -1))"
   ]
  },
  {
   "cell_type": "code",
   "execution_count": 22,
   "id": "a8df1620",
   "metadata": {},
   "outputs": [
    {
     "data": {
      "text/plain": [
       "array([['25', '0.0', '0.0', '0.0', '1.0', '1.0', '0.0', '0.0', '0.0'],\n",
       "       ['25', '0.0', '0.0', '1.0', '0.0', '0.0', '1.0', '0.0', '0.0']],\n",
       "      dtype='<U32')"
      ]
     },
     "execution_count": 22,
     "metadata": {},
     "output_type": "execute_result"
    }
   ],
   "source": [
    "cl.X_train"
   ]
  },
  {
   "cell_type": "code",
   "execution_count": 23,
   "id": "85c2c5ca",
   "metadata": {
    "colab": {
     "base_uri": "https://localhost:8080/"
    },
    "id": "85c2c5ca",
    "outputId": "0a859e06-01bc-4cf6-9418-2a2080a01609"
   },
   "outputs": [
    {
     "data": {
      "text/plain": [
       "array([0, 1], dtype=int32)"
      ]
     },
     "execution_count": 23,
     "metadata": {},
     "output_type": "execute_result"
    }
   ],
   "source": [
    "result = cl.Kmeans()\n",
    "result"
   ]
  },
  {
   "cell_type": "code",
   "execution_count": 24,
   "id": "bd80ab45",
   "metadata": {
    "id": "bd80ab45"
   },
   "outputs": [],
   "source": [
    "k_users = cl.ReturnResult_cosine_similarity()"
   ]
  },
  {
   "cell_type": "code",
   "execution_count": 25,
   "id": "a558ea2b",
   "metadata": {},
   "outputs": [
    {
     "data": {
      "text/plain": [
       "array([[1.],\n",
       "       [0.]])"
      ]
     },
     "execution_count": 25,
     "metadata": {},
     "output_type": "execute_result"
    }
   ],
   "source": [
    "k_users"
   ]
  }
 ],
 "metadata": {
  "colab": {
   "collapsed_sections": [],
   "provenance": []
  },
  "kernelspec": {
   "display_name": "Python 3 (ipykernel)",
   "language": "python",
   "name": "python3"
  },
  "language_info": {
   "codemirror_mode": {
    "name": "ipython",
    "version": 3
   },
   "file_extension": ".py",
   "mimetype": "text/x-python",
   "name": "python",
   "nbconvert_exporter": "python",
   "pygments_lexer": "ipython3",
   "version": "3.9.12"
  }
 },
 "nbformat": 4,
 "nbformat_minor": 5
}
