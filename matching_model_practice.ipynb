{
 "cells": [
  {
   "cell_type": "code",
   "execution_count": 1,
   "id": "57e85d3c",
   "metadata": {
    "id": "57e85d3c"
   },
   "outputs": [],
   "source": [
    "import numpy as np\n",
    "import pandas as pd\n",
    "import matplotlib.pyplot as plt\n",
    "import sklearn\n",
    "from sklearn.preprocessing import OneHotEncoder\n",
    "from sklearn.cluster import KMeans\n",
    "import math\n",
    "from numpy import dot\n",
    "from numpy.linalg import norm"
   ]
  },
  {
   "cell_type": "code",
   "execution_count": 2,
   "id": "0356d7a9",
   "metadata": {
    "id": "0356d7a9"
   },
   "outputs": [],
   "source": [
    "# 유튜브 구독정보 난수생성기로 임의 생성\n",
    "\n",
    "class RandomGenerator(object):\n",
    "   \n",
    "    def __init__(self, random_state=1):\n",
    "        \"\"\"\n",
    "        -매개변수-\n",
    "        random_state : 가중치 초기화를 위한 무작위 난수 생성기의 seed\n",
    "        \"\"\"\n",
    "        self.random_state = random_state\n",
    "        \n",
    "    def GeneratingRandomData(self, loc=4, size=5000, scale=3, n_features=10):\n",
    "        \"\"\"\n",
    "        난수생성기로 임의 데이터 생성\n",
    "        \"\"\"\n",
    "    \n",
    "        np.random.seed(self.random_state)\n",
    "        # 특정 seed를 가지는 np.random.RandomState() 객체를 만들고, 이 객체를 통해서 난수 생성\n",
    "        self.data = np.random.normal(loc, scale, size)\n",
    "        for i in range(len(self.data)):\n",
    "            self.data[i] = (abs(int(self.data[i])))\n",
    "                \n",
    "        return self.data.reshape(-1, n_features)\n",
    "    \n",
    "    def GeneratingFeature(self): # feature 임의 생성\n",
    "        self.feature = ['Game', 'Cook', \"Travel\", \"Money\", \"Academy\", \"Learning\", \"Sing\", \"Sports\", \"Machine\", \"Mistery\"]\n",
    "    \n",
    "    def ArrayToDataframe(self, random_array, n_sample):\n",
    "        return pd.DataFrame(random_array, index=range(0, n_sample), columns=self.feature)"
   ]
  },
  {
   "cell_type": "code",
   "execution_count": 3,
   "id": "08be5008",
   "metadata": {
    "id": "08be5008"
   },
   "outputs": [],
   "source": [
    "# 난수생성기 객체 생성\n",
    "\n",
    "dataGenerator = RandomGenerator(156)"
   ]
  },
  {
   "cell_type": "code",
   "execution_count": 4,
   "id": "d8245c36",
   "metadata": {
    "colab": {
     "base_uri": "https://localhost:8080/"
    },
    "id": "d8245c36",
    "outputId": "876aac35-70ed-4628-e0d0-451974867953"
   },
   "outputs": [
    {
     "data": {
      "text/plain": [
       "(500, 10)"
      ]
     },
     "execution_count": 4,
     "metadata": {},
     "output_type": "execute_result"
    }
   ],
   "source": [
    "randomData = dataGenerator.GeneratingRandomData()\n",
    "randomData.shape"
   ]
  },
  {
   "cell_type": "code",
   "execution_count": 5,
   "id": "24a33231",
   "metadata": {
    "id": "24a33231"
   },
   "outputs": [],
   "source": [
    "# feature 이름 리스트 구성\n",
    "\n",
    "feature_names = ['Game', 'Cook', \"Travel\", \"Money\", \"Academy\", \"Learning\", \"Sing\", \"Sports\", \"Machine\", \"Mistery\"]"
   ]
  },
  {
   "cell_type": "code",
   "execution_count": 6,
   "id": "7a0d6ded",
   "metadata": {
    "id": "7a0d6ded"
   },
   "outputs": [],
   "source": [
    "dataGenerator.GeneratingFeature()"
   ]
  },
  {
   "cell_type": "code",
   "execution_count": 7,
   "id": "294baa8a",
   "metadata": {
    "colab": {
     "base_uri": "https://localhost:8080/",
     "height": 424
    },
    "id": "294baa8a",
    "outputId": "9d846b1b-88df-4226-eeec-e7cf5e176275"
   },
   "outputs": [
    {
     "data": {
      "text/html": [
       "<div>\n",
       "<style scoped>\n",
       "    .dataframe tbody tr th:only-of-type {\n",
       "        vertical-align: middle;\n",
       "    }\n",
       "\n",
       "    .dataframe tbody tr th {\n",
       "        vertical-align: top;\n",
       "    }\n",
       "\n",
       "    .dataframe thead th {\n",
       "        text-align: right;\n",
       "    }\n",
       "</style>\n",
       "<table border=\"1\" class=\"dataframe\">\n",
       "  <thead>\n",
       "    <tr style=\"text-align: right;\">\n",
       "      <th></th>\n",
       "      <th>Game</th>\n",
       "      <th>Cook</th>\n",
       "      <th>Travel</th>\n",
       "      <th>Money</th>\n",
       "      <th>Academy</th>\n",
       "      <th>Learning</th>\n",
       "      <th>Sing</th>\n",
       "      <th>Sports</th>\n",
       "      <th>Machine</th>\n",
       "      <th>Mistery</th>\n",
       "    </tr>\n",
       "  </thead>\n",
       "  <tbody>\n",
       "    <tr>\n",
       "      <th>0</th>\n",
       "      <td>5.0</td>\n",
       "      <td>1.0</td>\n",
       "      <td>1.0</td>\n",
       "      <td>2.0</td>\n",
       "      <td>8.0</td>\n",
       "      <td>3.0</td>\n",
       "      <td>5.0</td>\n",
       "      <td>5.0</td>\n",
       "      <td>1.0</td>\n",
       "      <td>0.0</td>\n",
       "    </tr>\n",
       "    <tr>\n",
       "      <th>1</th>\n",
       "      <td>2.0</td>\n",
       "      <td>1.0</td>\n",
       "      <td>3.0</td>\n",
       "      <td>4.0</td>\n",
       "      <td>3.0</td>\n",
       "      <td>2.0</td>\n",
       "      <td>0.0</td>\n",
       "      <td>5.0</td>\n",
       "      <td>0.0</td>\n",
       "      <td>6.0</td>\n",
       "    </tr>\n",
       "    <tr>\n",
       "      <th>2</th>\n",
       "      <td>1.0</td>\n",
       "      <td>0.0</td>\n",
       "      <td>2.0</td>\n",
       "      <td>1.0</td>\n",
       "      <td>3.0</td>\n",
       "      <td>9.0</td>\n",
       "      <td>3.0</td>\n",
       "      <td>5.0</td>\n",
       "      <td>11.0</td>\n",
       "      <td>2.0</td>\n",
       "    </tr>\n",
       "    <tr>\n",
       "      <th>3</th>\n",
       "      <td>5.0</td>\n",
       "      <td>3.0</td>\n",
       "      <td>4.0</td>\n",
       "      <td>3.0</td>\n",
       "      <td>6.0</td>\n",
       "      <td>1.0</td>\n",
       "      <td>4.0</td>\n",
       "      <td>2.0</td>\n",
       "      <td>4.0</td>\n",
       "      <td>0.0</td>\n",
       "    </tr>\n",
       "    <tr>\n",
       "      <th>4</th>\n",
       "      <td>10.0</td>\n",
       "      <td>6.0</td>\n",
       "      <td>3.0</td>\n",
       "      <td>1.0</td>\n",
       "      <td>6.0</td>\n",
       "      <td>3.0</td>\n",
       "      <td>4.0</td>\n",
       "      <td>7.0</td>\n",
       "      <td>2.0</td>\n",
       "      <td>8.0</td>\n",
       "    </tr>\n",
       "    <tr>\n",
       "      <th>...</th>\n",
       "      <td>...</td>\n",
       "      <td>...</td>\n",
       "      <td>...</td>\n",
       "      <td>...</td>\n",
       "      <td>...</td>\n",
       "      <td>...</td>\n",
       "      <td>...</td>\n",
       "      <td>...</td>\n",
       "      <td>...</td>\n",
       "      <td>...</td>\n",
       "    </tr>\n",
       "    <tr>\n",
       "      <th>495</th>\n",
       "      <td>3.0</td>\n",
       "      <td>8.0</td>\n",
       "      <td>7.0</td>\n",
       "      <td>6.0</td>\n",
       "      <td>3.0</td>\n",
       "      <td>2.0</td>\n",
       "      <td>7.0</td>\n",
       "      <td>7.0</td>\n",
       "      <td>9.0</td>\n",
       "      <td>1.0</td>\n",
       "    </tr>\n",
       "    <tr>\n",
       "      <th>496</th>\n",
       "      <td>6.0</td>\n",
       "      <td>2.0</td>\n",
       "      <td>4.0</td>\n",
       "      <td>4.0</td>\n",
       "      <td>10.0</td>\n",
       "      <td>6.0</td>\n",
       "      <td>3.0</td>\n",
       "      <td>6.0</td>\n",
       "      <td>1.0</td>\n",
       "      <td>0.0</td>\n",
       "    </tr>\n",
       "    <tr>\n",
       "      <th>497</th>\n",
       "      <td>0.0</td>\n",
       "      <td>6.0</td>\n",
       "      <td>4.0</td>\n",
       "      <td>0.0</td>\n",
       "      <td>7.0</td>\n",
       "      <td>2.0</td>\n",
       "      <td>5.0</td>\n",
       "      <td>3.0</td>\n",
       "      <td>1.0</td>\n",
       "      <td>6.0</td>\n",
       "    </tr>\n",
       "    <tr>\n",
       "      <th>498</th>\n",
       "      <td>8.0</td>\n",
       "      <td>1.0</td>\n",
       "      <td>6.0</td>\n",
       "      <td>6.0</td>\n",
       "      <td>3.0</td>\n",
       "      <td>6.0</td>\n",
       "      <td>1.0</td>\n",
       "      <td>5.0</td>\n",
       "      <td>2.0</td>\n",
       "      <td>6.0</td>\n",
       "    </tr>\n",
       "    <tr>\n",
       "      <th>499</th>\n",
       "      <td>8.0</td>\n",
       "      <td>5.0</td>\n",
       "      <td>10.0</td>\n",
       "      <td>5.0</td>\n",
       "      <td>0.0</td>\n",
       "      <td>6.0</td>\n",
       "      <td>4.0</td>\n",
       "      <td>0.0</td>\n",
       "      <td>7.0</td>\n",
       "      <td>7.0</td>\n",
       "    </tr>\n",
       "  </tbody>\n",
       "</table>\n",
       "<p>500 rows × 10 columns</p>\n",
       "</div>"
      ],
      "text/plain": [
       "     Game  Cook  Travel  Money  Academy  Learning  Sing  Sports  Machine  \\\n",
       "0     5.0   1.0     1.0    2.0      8.0       3.0   5.0     5.0      1.0   \n",
       "1     2.0   1.0     3.0    4.0      3.0       2.0   0.0     5.0      0.0   \n",
       "2     1.0   0.0     2.0    1.0      3.0       9.0   3.0     5.0     11.0   \n",
       "3     5.0   3.0     4.0    3.0      6.0       1.0   4.0     2.0      4.0   \n",
       "4    10.0   6.0     3.0    1.0      6.0       3.0   4.0     7.0      2.0   \n",
       "..    ...   ...     ...    ...      ...       ...   ...     ...      ...   \n",
       "495   3.0   8.0     7.0    6.0      3.0       2.0   7.0     7.0      9.0   \n",
       "496   6.0   2.0     4.0    4.0     10.0       6.0   3.0     6.0      1.0   \n",
       "497   0.0   6.0     4.0    0.0      7.0       2.0   5.0     3.0      1.0   \n",
       "498   8.0   1.0     6.0    6.0      3.0       6.0   1.0     5.0      2.0   \n",
       "499   8.0   5.0    10.0    5.0      0.0       6.0   4.0     0.0      7.0   \n",
       "\n",
       "     Mistery  \n",
       "0        0.0  \n",
       "1        6.0  \n",
       "2        2.0  \n",
       "3        0.0  \n",
       "4        8.0  \n",
       "..       ...  \n",
       "495      1.0  \n",
       "496      0.0  \n",
       "497      6.0  \n",
       "498      6.0  \n",
       "499      7.0  \n",
       "\n",
       "[500 rows x 10 columns]"
      ]
     },
     "execution_count": 7,
     "metadata": {},
     "output_type": "execute_result"
    }
   ],
   "source": [
    "dfRandomData = dataGenerator.ArrayToDataframe(randomData, 500)\n",
    "dfRandomData"
   ]
  },
  {
   "cell_type": "code",
   "execution_count": 8,
   "id": "6f3a514b",
   "metadata": {},
   "outputs": [],
   "source": [
    "row_data = [\n",
    "  [\n",
    "    '113082415690584490861', '25',        '/m/0403l3g',\n",
    "    '/m/02ntfj',             '/m/025zzc', '/m/0bzvm2',\n",
    "    '/m/028sqc',             '/m/04rlf',  '/m/064t9',\n",
    "    '/m/01k8wb',             '/m/02vxn',  '/m/02jjt',\n",
    "    '/m/01k8wb',             '/m/019_rr', '/m/028sqc',\n",
    "    '/m/064t9',              '/m/04rlf',  '/m/01k8wb',\n",
    "    '/m/07c1v',              '/m/019_rr', '/m/019_rr',\n",
    "    '/g/120yrv6h',           '/m/019_rr', '/m/028sqc',\n",
    "    '/m/04rlf',              '/m/04rlf',  '/m/028sqc',\n",
    "    '/m/064t9',              '/m/04rlf',  '/m/064t9',\n",
    "    '/m/028sqc',             '/m/019_rr', '/m/01k8wb',\n",
    "    '/m/02vxn',              '/m/019_rr', '/m/02jjt',\n",
    "    '/m/02jjt',              '/m/028sqc', '/m/04rlf',\n",
    "    '/m/02vxn',              '/m/04rlf',  '/m/05rwpb',\n",
    "    '/m/064t9',              '/m/028sqc', '/m/064t9',\n",
    "    '/m/028sqc',             '/m/04rlf',  '/m/02jjt',\n",
    "    '/m/019_rr',             '/m/02wbm',  '/m/019_rr',\n",
    "    '/m/07c1v',              '/m/019_rr', '/m/01k8wb',\n",
    "    '/m/07c1v',              '/m/01k8wb', '/m/019_rr',\n",
    "    '/m/068hy',              '/m/019_rr', '/m/04rlf',\n",
    "    '/m/028sqc',             '/m/064t9',  '/m/028sqc',\n",
    "    '/m/064t9',              '/m/04rlf',  '/m/068hy',\n",
    "    '/m/019_rr'\n",
    "  ],\n",
    "  [\n",
    "    '115987064282754163674', '25',         '/m/02vxn',\n",
    "    '/m/02jjt',              '/m/02ntfj',  '/m/025zzc',\n",
    "    '/m/019_rr',             '/m/027x7n',  '/m/0403l3g',\n",
    "    '/m/0bzvm2',             '/m/03hf_rm', '/m/025zzc',\n",
    "    '/m/025zzc',             '/m/0bzvm2',  '/m/03hf_rm',\n",
    "    '/m/0403l3g',            '/m/03hf_rm', '/m/0403l3g',\n",
    "    '/m/025zzc',             '/m/02ntfj',  '/m/0bzvm2',\n",
    "    '/m/04rlf',              '/m/028sqc',  '/m/05rwpb',\n",
    "    '/m/06by7',              '/m/0glt670', '/m/02vxn',\n",
    "    '/m/04rlf',              '/m/02jjt',   '/m/01k8wb',\n",
    "    '/m/07c1v',              '/m/019_rr',  '/m/06ntj',\n",
    "    '/m/02jjt',              '/m/019_rr',  '/m/01k8wb',\n",
    "    '/m/07c1v',              '/m/0bzvm2',  '/m/0403l3g',\n",
    "    '/m/03hf_rm',            '/m/025zzc',  '/m/02vxn',\n",
    "    '/m/02jjt',              '/m/01k8wb',  '/m/098wr',\n",
    "    '/m/02vxn',              '/m/02jjt',   '/m/019_rr',\n",
    "    '/m/027x7n',             '/m/027x7n',  '/m/06ntj',\n",
    "    '/m/019_rr',             '/m/01k8wb',  '/m/0bzvm2',\n",
    "    '/m/0403l3g',            '/m/025zzc',  '/m/03hf_rm',\n",
    "    '/m/02ntfj',             '/m/02jjt',   '/m/0f2f9',\n",
    "    '/m/02vxn',              '/m/019_rr',  '/m/027x7n',\n",
    "    '/m/0403l3g',            '/m/03hf_rm', '/m/025zzc',\n",
    "    '/m/0bzvm2',             '/m/02jjt',   '/m/02vxn',\n",
    "    '/m/025zzc',             '/m/03hf_rm', '/m/0bzvm2',\n",
    "    '/m/0403l3g',            '/m/019_rr',  '/m/01k8wb',\n",
    "    '/m/025zzc',             '/m/03hf_rm', '/m/0403l3g',\n",
    "    '/m/0bzvm2',             '/m/02ntfj'\n",
    "  ]\n",
    "]"
   ]
  },
  {
   "cell_type": "code",
   "execution_count": 9,
   "id": "a2a2b0c9",
   "metadata": {},
   "outputs": [],
   "source": [
    "# 데이터 전처리\n",
    "\n",
    "class DataPreprocessing(object):\n",
    "   \n",
    "    def ListToArray(self, row_data): \n",
    "        self.arr = np.array(row_data)\n",
    "                                    \n",
    "    def MakeColumns(self):\n",
    "        self.user_id = []\n",
    "        for i in range(self.arr.shape[0]):\n",
    "            self.user_id.append(self.arr[i][0])\n",
    "            \n",
    "        self.channels = []\n",
    "        for i in range(self.arr.shape[0]):\n",
    "            self.channels.append(self.arr[i][1])\n",
    "            \n",
    "        \"\"\"\n",
    "        self.all_category = []\n",
    "        for i in range(self.arr.shape[0]):\n",
    "            self.user_category = []\n",
    "            for each_category in self.arr[i][2:]:\n",
    "                self.user_category.append(each_category)\n",
    "            self.all_category.append(self.user_category)\n",
    "        \"\"\"\n",
    "            \n",
    "        self.cate = []\n",
    "        for i in range(self.arr.shape[0]):\n",
    "            self.cate.append(self.arr[i][2:])\n",
    "    \n",
    "    def ArrayToDataframe(self):\n",
    "        self.row_df = pd.DataFrame({'Channels': self.channels, 'Category': self.cate}, index=self.user_id)\n",
    "    \n",
    "    def Extraction(self):\n",
    "        self.category = []\n",
    "        \n",
    "        for i in range(self.row_df['Category'].shape[0]):\n",
    "            np.array(pd.DataFrame(self.row_df['Category'][i]).value_counts()).reshape(1,-1)\n",
    "            \n",
    "            self.category_series = pd.DataFrame(self.row_df['Category'][i]).value_counts()\n",
    "            \n",
    "            self.df_category = pd.DataFrame(np.array(self.category_series).reshape(1, -1), \n",
    "                               columns = [j for j in self.category_series.index])\n",
    "\n",
    "            self.category.append(self.df_category.sort_values(by=0, axis=1).iloc[0, -2:].index.tolist())\n",
    "            \n",
    "        self.first_category = pd.DataFrame(self.category)[0].str[0]\n",
    "        self.second_category = pd.DataFrame(self.category)[1].str[0]\n",
    "    \n",
    "    def ToDf(self):\n",
    "        df = pd.DataFrame({'channels': self.channels, 'first_category': self.first_category.values, \n",
    "                           'second_category': self.second_category.values}, index=self.user_id)\n",
    "        \n",
    "        return df"
   ]
  },
  {
   "cell_type": "code",
   "execution_count": 10,
   "id": "a84a55fa",
   "metadata": {},
   "outputs": [],
   "source": [
    "dt = DataPreprocessing()"
   ]
  },
  {
   "cell_type": "code",
   "execution_count": 11,
   "id": "e4a7f053",
   "metadata": {},
   "outputs": [
    {
     "name": "stderr",
     "output_type": "stream",
     "text": [
      "/var/folders/0t/m5tmk07x1jn8mbwk5mpr748h0000gp/T/ipykernel_32536/1545834518.py:6: VisibleDeprecationWarning: Creating an ndarray from ragged nested sequences (which is a list-or-tuple of lists-or-tuples-or ndarrays with different lengths or shapes) is deprecated. If you meant to do this, you must specify 'dtype=object' when creating the ndarray.\n",
      "  self.arr = np.array(row_data)\n"
     ]
    }
   ],
   "source": [
    "dt.ListToArray(row_data)"
   ]
  },
  {
   "cell_type": "code",
   "execution_count": 12,
   "id": "b856bc26",
   "metadata": {},
   "outputs": [
    {
     "name": "stdout",
     "output_type": "stream",
     "text": [
      "['113082415690584490861', '115987064282754163674'] ['25', '25']\n"
     ]
    }
   ],
   "source": [
    "dt.MakeColumns()\n",
    "print(dt.user_id, dt.channels)"
   ]
  },
  {
   "cell_type": "code",
   "execution_count": 13,
   "id": "d284f87a",
   "metadata": {},
   "outputs": [],
   "source": [
    "dt.ArrayToDataframe()"
   ]
  },
  {
   "cell_type": "code",
   "execution_count": 14,
   "id": "d48cc860",
   "metadata": {},
   "outputs": [
    {
     "data": {
      "text/plain": [
       "[[('/m/04rlf',), ('/m/019_rr',)], [('/m/0403l3g',), ('/m/025zzc',)]]"
      ]
     },
     "execution_count": 14,
     "metadata": {},
     "output_type": "execute_result"
    }
   ],
   "source": [
    "dt.Extraction()\n",
    "dt.category"
   ]
  },
  {
   "cell_type": "code",
   "execution_count": 15,
   "id": "8e3b4448",
   "metadata": {},
   "outputs": [
    {
     "data": {
      "text/html": [
       "<div>\n",
       "<style scoped>\n",
       "    .dataframe tbody tr th:only-of-type {\n",
       "        vertical-align: middle;\n",
       "    }\n",
       "\n",
       "    .dataframe tbody tr th {\n",
       "        vertical-align: top;\n",
       "    }\n",
       "\n",
       "    .dataframe thead th {\n",
       "        text-align: right;\n",
       "    }\n",
       "</style>\n",
       "<table border=\"1\" class=\"dataframe\">\n",
       "  <thead>\n",
       "    <tr style=\"text-align: right;\">\n",
       "      <th></th>\n",
       "      <th>channels</th>\n",
       "      <th>first_category</th>\n",
       "      <th>second_category</th>\n",
       "    </tr>\n",
       "  </thead>\n",
       "  <tbody>\n",
       "    <tr>\n",
       "      <th>113082415690584490861</th>\n",
       "      <td>25</td>\n",
       "      <td>/m/04rlf</td>\n",
       "      <td>/m/019_rr</td>\n",
       "    </tr>\n",
       "    <tr>\n",
       "      <th>115987064282754163674</th>\n",
       "      <td>25</td>\n",
       "      <td>/m/0403l3g</td>\n",
       "      <td>/m/025zzc</td>\n",
       "    </tr>\n",
       "  </tbody>\n",
       "</table>\n",
       "</div>"
      ],
      "text/plain": [
       "                      channels first_category second_category\n",
       "113082415690584490861       25       /m/04rlf       /m/019_rr\n",
       "115987064282754163674       25     /m/0403l3g       /m/025zzc"
      ]
     },
     "execution_count": 15,
     "metadata": {},
     "output_type": "execute_result"
    }
   ],
   "source": [
    "df = dt.ToDf()\n",
    "df"
   ]
  },
  {
   "cell_type": "code",
   "execution_count": 16,
   "id": "604f7430",
   "metadata": {},
   "outputs": [],
   "source": [
    "# sklearn의 cosine_similarity 사용\n",
    "# 코사인 유사도 계산 시 시간복잡도 문제 해결\n",
    "\n",
    "from sklearn.metrics.pairwise import cosine_similarity\n",
    "\n",
    "class Classification(object):\n",
    "    \n",
    "    def __init__(self, df_data):\n",
    "        self.df = df_data\n",
    "\n",
    "    \"\"\"\n",
    "    def Extraction(self):\n",
    "        # 가장 선호하는 feature 추출\n",
    "        self.ls = []\n",
    "        for i in range(0, self.df.shape[0]):\n",
    "            self.ls.append(self.df.sort_values(by=[i], axis=1).iloc[i, -2:].index.tolist())\n",
    "            \n",
    "        # 각 이용자의 구독 채널 수 추출\n",
    "        arr = np.array(self.df)\n",
    "        self.num_ch = np.sum(arr, axis=1).reshape(-1, 1)\n",
    "    \"\"\"\n",
    "    \n",
    "    def Ohe(self, df): # 각 샘플에 대해 추출한 가장 선호하는 2개의 특성에 대해 원핫인코딩\n",
    "        ohe = OneHotEncoder(sparse=False)\n",
    "        self.train_feature = ohe.fit_transform(np.array(df[['first_category', 'second_category']]).reshape(-1,1))\n",
    "    \n",
    "    def makeData(self, channels):\n",
    "        self.X_train = np.hstack((channels, np.array(cl.train_feature).reshape(2,-1)))\n",
    "        \n",
    "    def Kmeans(self): # k_means 클러스터링\n",
    "        model = KMeans(n_clusters=2)\n",
    "        model.fit(self.X_train)\n",
    "        return np.array(model.predict(self.X_train))\n",
    "    \n",
    "    def ReturnResult_cosine_similarity(self, k=1):\n",
    "        \n",
    "        k_users = np.empty((0,k))\n",
    "        for i in range(0, self.X_train.shape[0]):\n",
    "            #distance = []\n",
    "            #distance.append(cosine_similarity(self.X_train[i].reshape(1,-1), self.X_train))\n",
    "            distance = [cosine_similarity(self.X_train[i].reshape(1,-1), self.X_train)]\n",
    "            \n",
    "            # i 번째 데이터 포인터와 다른 데이터들 사이의 거리를 작은순으로 정렬한 후 해당 인덱스를 이용해서 가장 가까운 k명의 이용자 선별\n",
    "            distance_idx = np.array(distance).ravel().argsort()\n",
    "            k_users = np.append(k_users, [distance_idx[:k]], axis=0)\n",
    "                    \n",
    "        return k_users"
   ]
  },
  {
   "cell_type": "code",
   "execution_count": 17,
   "id": "07da5b7a",
   "metadata": {
    "id": "07da5b7a"
   },
   "outputs": [],
   "source": [
    "cl = Classification(df)"
   ]
  },
  {
   "cell_type": "code",
   "execution_count": 18,
   "id": "12d06507",
   "metadata": {},
   "outputs": [
    {
     "data": {
      "text/plain": [
       "array([[0., 0., 0., 1.],\n",
       "       [1., 0., 0., 0.],\n",
       "       [0., 0., 1., 0.],\n",
       "       [0., 1., 0., 0.]])"
      ]
     },
     "execution_count": 18,
     "metadata": {},
     "output_type": "execute_result"
    }
   ],
   "source": [
    "cl.Ohe(df)\n",
    "cl.train_feature"
   ]
  },
  {
   "cell_type": "code",
   "execution_count": 19,
   "id": "5f5935bb",
   "metadata": {
    "id": "5f5935bb"
   },
   "outputs": [],
   "source": [
    "cl.makeData(np.array(dt.channels).reshape(2, -1))"
   ]
  },
  {
   "cell_type": "code",
   "execution_count": 20,
   "id": "a8df1620",
   "metadata": {},
   "outputs": [
    {
     "data": {
      "text/plain": [
       "array([['25', '0.0', '0.0', '0.0', '1.0', '1.0', '0.0', '0.0', '0.0'],\n",
       "       ['25', '0.0', '0.0', '1.0', '0.0', '0.0', '1.0', '0.0', '0.0']],\n",
       "      dtype='<U32')"
      ]
     },
     "execution_count": 20,
     "metadata": {},
     "output_type": "execute_result"
    }
   ],
   "source": [
    "cl.X_train"
   ]
  },
  {
   "cell_type": "code",
   "execution_count": 21,
   "id": "85c2c5ca",
   "metadata": {
    "colab": {
     "base_uri": "https://localhost:8080/"
    },
    "id": "85c2c5ca",
    "outputId": "0a859e06-01bc-4cf6-9418-2a2080a01609"
   },
   "outputs": [
    {
     "data": {
      "text/plain": [
       "array([0, 1], dtype=int32)"
      ]
     },
     "execution_count": 21,
     "metadata": {},
     "output_type": "execute_result"
    }
   ],
   "source": [
    "result = cl.Kmeans()\n",
    "result"
   ]
  },
  {
   "cell_type": "code",
   "execution_count": 22,
   "id": "bd80ab45",
   "metadata": {
    "id": "bd80ab45"
   },
   "outputs": [],
   "source": [
    "k_users = cl.ReturnResult_cosine_similarity()"
   ]
  },
  {
   "cell_type": "code",
   "execution_count": 23,
   "id": "a558ea2b",
   "metadata": {},
   "outputs": [
    {
     "data": {
      "text/plain": [
       "array([[1.],\n",
       "       [0.]])"
      ]
     },
     "execution_count": 23,
     "metadata": {},
     "output_type": "execute_result"
    }
   ],
   "source": [
    "k_users"
   ]
  },
  {
   "cell_type": "code",
   "execution_count": null,
   "id": "95216a19",
   "metadata": {},
   "outputs": [],
   "source": []
  }
 ],
 "metadata": {
  "colab": {
   "collapsed_sections": [],
   "provenance": []
  },
  "kernelspec": {
   "display_name": "Python 3 (ipykernel)",
   "language": "python",
   "name": "python3"
  },
  "language_info": {
   "codemirror_mode": {
    "name": "ipython",
    "version": 3
   },
   "file_extension": ".py",
   "mimetype": "text/x-python",
   "name": "python",
   "nbconvert_exporter": "python",
   "pygments_lexer": "ipython3",
   "version": "3.9.12"
  }
 },
 "nbformat": 4,
 "nbformat_minor": 5
}
